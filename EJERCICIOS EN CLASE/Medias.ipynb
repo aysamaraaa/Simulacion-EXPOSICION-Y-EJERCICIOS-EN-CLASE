{
  "nbformat": 4,
  "nbformat_minor": 0,
  "metadata": {
    "colab": {
      "provenance": []
    },
    "kernelspec": {
      "name": "python3",
      "display_name": "Python 3"
    },
    "language_info": {
      "name": "python"
    }
  },
  "cells": [
    {
      "cell_type": "markdown",
      "source": [
        "#Prueba de medias"
      ],
      "metadata": {
        "id": "HURMTzW90eFb"
      }
    },
    {
      "cell_type": "code",
      "source": [
        "import random\n",
        "\n",
        "data_list = []\n",
        "for i in range(0, 5):\n",
        "    num = (float(round(random.uniform(0, 1), 4)))  # Genera un número aleatorio entre 0 y 1 con 4 decimales\n",
        "    data_list.append(num)  # Agrega el número a la lista de datos\n",
        "\n",
        "print(\"Datos:\", data_list)  # Imprime la lista de datos generados\n",
        "num_total = len(data_list)\n",
        "print(\"Total de datos:\", num_total)  # Imprime el número total de datos generados\n",
        "\n",
        "from numpy import mean\n",
        "average = round(mean(data_list), 5)  # Calcula el promedio de los datos utilizando la librería numpy\n",
        "print(\"Promedio:\", average)  # Imprime el valor del promedio calculado\n",
        "\n",
        "import statistics\n",
        "variance = statistics.variance(data_list)  # Calcula la varianza de los datos utilizando la librería statistics\n",
        "print(\"Varianza:\", round(variance, 5))  # Imprime el valor de la varianza calculada\n",
        "\n",
        "z_value = 1.96\n",
        "upper_limit = round(1/2 + z_value * 1/((12*num_total)**0.5), 6)  # Calcula el límite superior del intervalo de confianza\n",
        "lower_limit = round(1/2 - z_value * 1/((12*num_total)**0.5), 6)  # Calcula el límite inferior del intervalo de confianza\n",
        "print(\"Límite inferior:\", lower_limit, \"límite superior:\", upper_limit)  # Imprime los límites del intervalo de confianza\n",
        "\n",
        "if lower_limit <= average <= upper_limit:\n",
        "    print(\"Aceptamos que los números tienen una media igual a 1/2\")  # Imprime el mensaje de aceptación\n",
        "else:\n",
        "    print(\"Los números no tienen una media igual a 1/2\")  # Imprime el mensaje de rechazo"
      ],
      "metadata": {
        "colab": {
          "base_uri": "https://localhost:8080/"
        },
        "id": "AkD7JlE80bO1",
        "outputId": "654523f2-2b44-4044-dc7f-14b47f2e3754"
      },
      "execution_count": 1,
      "outputs": [
        {
          "output_type": "stream",
          "name": "stdout",
          "text": [
            "Datos: [0.8073, 0.3414, 0.4679, 0.4316, 0.2309]\n",
            "Total de datos: 5\n",
            "Promedio: 0.45582\n",
            "Varianza: 0.04699\n",
            "Límite inferior: 0.246965 límite superior: 0.753035\n",
            "Aceptamos que los números tienen una media igual a 1/2\n"
          ]
        }
      ]
    }
  ]
}