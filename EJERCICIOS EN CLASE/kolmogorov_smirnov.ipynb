{
  "nbformat": 4,
  "nbformat_minor": 0,
  "metadata": {
    "colab": {
      "provenance": []
    },
    "kernelspec": {
      "name": "python3",
      "display_name": "Python 3"
    },
    "language_info": {
      "name": "python"
    }
  },
  "cells": [
    {
      "cell_type": "markdown",
      "source": [
        "#Prueba de Kolmogorov Smirnov"
      ],
      "metadata": {
        "id": "5f_n-k503OiN"
      }
    },
    {
      "cell_type": "code",
      "source": [
        "import random\n",
        "import numpy as np\n",
        "\n",
        "# Generación de números aleatorios y listas\n",
        "list1 = []\n",
        "list2 = []\n",
        "list_nums = []\n",
        "\n",
        "num_elements = 5\n",
        "for i in range(0, num_elements):\n",
        "    n = (float(round(random.uniform(0, 1), 4)))\n",
        "    list_nums.append(n)\n",
        "    m = (i + 1) / num_elements\n",
        "    list1.append(m)\n",
        "    m2 = (i) / num_elements\n",
        "    list2.append(m2)\n",
        "\n",
        "# Impresión de los números generados y su orden ascendente\n",
        "print(\"Los números generados son: \", list_nums)\n",
        "sorted_nums = sorted(list_nums, reverse=False)\n",
        "print(\"Los números ordenados de forma ascendente son: \\n\", sorted_nums)\n",
        "\n",
        "# Conversión de las listas en arrays de numpy\n",
        "np_list1 = np.array(list1)\n",
        "np_list2 = np.array(sorted_nums)\n",
        "np_list3 = np.array(list2)\n",
        "\n",
        "# Cálculo de D+ y D- mediante operaciones de arrays\n",
        "np_sumvectores = np_list1 - np_list2\n",
        "np_sumvectores1 = np_list2 - np_list3\n",
        "\n",
        "# Impresión de D+ y D- y sus valores máximos\n",
        "print(\"\\nD+ (i/n-ri) =\", np_sumvectores, \"\\nEl valor máximo de D+ es:\", round(np_sumvectores.max(), 6))\n",
        "print(\"\\nD- (ri-(i-1)/n) =\", np_sumvectores1, \"\\nEl valor máximo de D- es: \", round(np_sumvectores1.max(), 6))\n",
        "\n",
        "# Comparación de D+ y D- para obtener el máximo de D\n",
        "if np_sumvectores.max() < np_sumvectores1.max():\n",
        "    ks = np_sumvectores1.max()\n",
        "    print(\"\\nEl valor máximo de D es: \", ks)\n",
        "else:\n",
        "    ks = np_sumvectores.max()\n",
        "    print(\"\\nEl valor máximo de D es: \", ks)\n",
        "\n",
        "# Valor crítico DKS y comparación con el valor máximo de D\n",
        "DKS = 0.50945\n",
        "print(\"Para una confiabilidad del 90%, el valor crítico de D es:\", DKS)\n",
        "\n",
        "# Conclusión basada en la comparación de D con DKS\n",
        "if ks < DKS:\n",
        "    print(\"Se concluye que D < D(alfa, n), por lo tanto, los datos siguen una distribución uniforme (0, 1).\")\n",
        "else:\n",
        "    print(\"No se puede concluir que D < D(alfa, n), los datos podrían no seguir una distribución uniforme (0, 1).\")\n"
      ],
      "metadata": {
        "colab": {
          "base_uri": "https://localhost:8080/"
        },
        "id": "9OaUvTOi3U7Z",
        "outputId": "337c94ba-dfb4-4a8d-d4b1-a479b0dc6878"
      },
      "execution_count": 3,
      "outputs": [
        {
          "output_type": "stream",
          "name": "stdout",
          "text": [
            "Los números generados son:  [0.7133, 0.4319, 0.9174, 0.1935, 0.3585]\n",
            "Los números ordenados de forma ascendente son: \n",
            " [0.1935, 0.3585, 0.4319, 0.7133, 0.9174]\n",
            "\n",
            "D+ (i/n-ri) = [0.0065 0.0415 0.1681 0.0867 0.0826] \n",
            "El valor máximo de D+ es: 0.1681\n",
            "\n",
            "D- (ri-(i-1)/n) = [0.1935 0.1585 0.0319 0.1133 0.1174] \n",
            "El valor máximo de D- es:  0.1935\n",
            "\n",
            "El valor máximo de D es:  0.1935\n",
            "Para una confiabilidad del 90%, el valor crítico de D es: 0.50945\n",
            "Se concluye que D < D(alfa, n), por lo tanto, los datos siguen una distribución uniforme (0, 1).\n"
          ]
        }
      ]
    }
  ]
}