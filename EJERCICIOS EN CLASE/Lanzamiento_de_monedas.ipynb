{
  "nbformat": 4,
  "nbformat_minor": 0,
  "metadata": {
    "colab": {
      "provenance": []
    },
    "kernelspec": {
      "name": "python3",
      "display_name": "Python 3"
    },
    "language_info": {
      "name": "python"
    }
  },
  "cells": [
    {
      "cell_type": "code",
      "source": [
        "import random\n",
        "\n",
        "lista_numeros = []    # Creamos una lista vacía para guardar los números\n",
        "soles = 0              # Inicializamos el contador de soles en 0\n",
        "aguilas = 0            # Inicializamos el contador de águilas en 0\n",
        "cantidad_numeros_aleatorios = 3  # Cantidad de números aleatorios generados.\n",
        "dos_soles = 0          # Inicializamos el contador de eventos con dos soles en 0\n",
        "lanzamientos = 20      # Cantidad de lanzamientos\n",
        "\n",
        "for j in range(lanzamientos):\n",
        "    lista_numeros = []  # Reiniciamos la lista de números en cada lanzamiento\n",
        "    soles = 0           # Reiniciamos el contador de soles en cada lanzamiento\n",
        "    aguilas = 0         # Reiniciamos el contador de águilas en cada lanzamiento\n",
        "\n",
        "    for i in range(cantidad_numeros_aleatorios):\n",
        "        numero = round(random.uniform(0, 1), 4)   # Generamos un número aleatorio entre 0 y 1 con 4 decimales\n",
        "        lista_numeros.append(numero)              # Agregamos el número a la lista de números generados\n",
        "\n",
        "        if numero < 0.5:\n",
        "            soles += 1                            # Incrementamos el contador de soles si el número es menor a 0.5\n",
        "            lista_numeros.append(\"sol\")           # Agregamos \"sol\" a la lista de números para representar un sol\n",
        "        else:\n",
        "            aguilas += 1                          # Incrementamos el contador de águilas si el número es mayor o igual a 0.5\n",
        "            lista_numeros.append(\"aguila\")        # Agregamos \"aguila\" a la lista de números para representar un águila\n",
        "\n",
        "    if soles == 2:\n",
        "        dos_soles += 1                            # Incrementamos el contador de eventos con dos soles si se cumple la condición\n",
        "        print(j+1, lista_numeros, \"#soles:\", soles, \"#aguilas:\", aguilas, \"-------POSITIVO\")\n",
        "    else:\n",
        "        print(j+1, lista_numeros, \"#soles:\", soles, \"#aguilas:\", aguilas, \"------NEGATIVO\")\n",
        "\n",
        "print(\"\\Positivos:\", dos_soles, \"de\", lanzamientos)\n",
        "probabilidad = dos_soles / lanzamientos\n",
        "print(\"Prob =\", round(probabilidad, 6))"
      ],
      "metadata": {
        "colab": {
          "base_uri": "https://localhost:8080/"
        },
        "id": "KwckLljq_Qc9",
        "outputId": "ac5be0ec-1455-4b5e-bd20-236923803110"
      },
      "execution_count": 5,
      "outputs": [
        {
          "output_type": "stream",
          "name": "stdout",
          "text": [
            "1 [0.6574, 'aguila', 0.9909, 'aguila', 0.4421, 'sol'] #soles: 1 #aguilas: 2 ------NEGATIVO\n",
            "2 [0.1318, 'sol', 0.7442, 'aguila', 0.762, 'aguila'] #soles: 1 #aguilas: 2 ------NEGATIVO\n",
            "3 [0.5615, 'aguila', 0.752, 'aguila', 0.6582, 'aguila'] #soles: 0 #aguilas: 3 ------NEGATIVO\n",
            "4 [0.6167, 'aguila', 0.6592, 'aguila', 0.7762, 'aguila'] #soles: 0 #aguilas: 3 ------NEGATIVO\n",
            "5 [0.3598, 'sol', 0.5226, 'aguila', 0.1563, 'sol'] #soles: 2 #aguilas: 1 -------POSITIVO\n",
            "6 [0.9171, 'aguila', 0.7923, 'aguila', 0.0546, 'sol'] #soles: 1 #aguilas: 2 ------NEGATIVO\n",
            "7 [0.8688, 'aguila', 0.1866, 'sol', 0.5867, 'aguila'] #soles: 1 #aguilas: 2 ------NEGATIVO\n",
            "8 [0.0701, 'sol', 0.8813, 'aguila', 0.8816, 'aguila'] #soles: 1 #aguilas: 2 ------NEGATIVO\n",
            "9 [0.0319, 'sol', 0.4838, 'sol', 0.7329, 'aguila'] #soles: 2 #aguilas: 1 -------POSITIVO\n",
            "10 [0.2336, 'sol', 0.1564, 'sol', 0.7592, 'aguila'] #soles: 2 #aguilas: 1 -------POSITIVO\n",
            "11 [0.4785, 'sol', 0.7464, 'aguila', 0.072, 'sol'] #soles: 2 #aguilas: 1 -------POSITIVO\n",
            "12 [0.6747, 'aguila', 0.2022, 'sol', 0.9486, 'aguila'] #soles: 1 #aguilas: 2 ------NEGATIVO\n",
            "13 [0.0921, 'sol', 0.5711, 'aguila', 0.685, 'aguila'] #soles: 1 #aguilas: 2 ------NEGATIVO\n",
            "14 [0.6361, 'aguila', 0.4098, 'sol', 0.9561, 'aguila'] #soles: 1 #aguilas: 2 ------NEGATIVO\n",
            "15 [0.6263, 'aguila', 0.8923, 'aguila', 0.9597, 'aguila'] #soles: 0 #aguilas: 3 ------NEGATIVO\n",
            "16 [0.4022, 'sol', 0.1002, 'sol', 0.5777, 'aguila'] #soles: 2 #aguilas: 1 -------POSITIVO\n",
            "17 [0.6826, 'aguila', 0.4416, 'sol', 0.9365, 'aguila'] #soles: 1 #aguilas: 2 ------NEGATIVO\n",
            "18 [0.9116, 'aguila', 0.6931, 'aguila', 0.7967, 'aguila'] #soles: 0 #aguilas: 3 ------NEGATIVO\n",
            "19 [0.7294, 'aguila', 0.936, 'aguila', 0.9044, 'aguila'] #soles: 0 #aguilas: 3 ------NEGATIVO\n",
            "20 [0.9093, 'aguila', 0.1737, 'sol', 0.4185, 'sol'] #soles: 2 #aguilas: 1 -------POSITIVO\n",
            "\\Positivos: 6 de 20\n",
            "Prob = 0.3\n"
          ]
        }
      ]
    }
  ]
}