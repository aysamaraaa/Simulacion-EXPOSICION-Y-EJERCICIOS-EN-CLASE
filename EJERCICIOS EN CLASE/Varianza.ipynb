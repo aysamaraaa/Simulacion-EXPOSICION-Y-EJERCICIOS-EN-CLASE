{
  "nbformat": 4,
  "nbformat_minor": 0,
  "metadata": {
    "colab": {
      "provenance": []
    },
    "kernelspec": {
      "name": "python3",
      "display_name": "Python 3"
    },
    "language_info": {
      "name": "python"
    }
  },
  "cells": [
    {
      "cell_type": "markdown",
      "source": [
        "#Prueba de varianza"
      ],
      "metadata": {
        "id": "fekNQJHG1l5q"
      }
    },
    {
      "cell_type": "code",
      "execution_count": 1,
      "metadata": {
        "colab": {
          "base_uri": "https://localhost:8080/"
        },
        "id": "UPADfvHd1koO",
        "outputId": "a5c5261a-7347-45ea-9814-e82d354fe535"
      },
      "outputs": [
        {
          "output_type": "stream",
          "name": "stdout",
          "text": [
            "Datos: [0.9689, 0.2593, 0.9984, 0.0628, 0.7198]\n",
            "Total de datos: 5\n",
            "Promedio: 0.60184\n",
            "Varianza: 0.17845\n",
            "Nivel de confianza 95%, grados de libertad: 4\n",
            "Chi-cuadrado ( 0.975 , 4 ): 11.1432868\n",
            "Chi-cuadrado ( 0.025 , 4 ): 0.4844186\n",
            "Límite inferior: 0.010092053272665207 límite superior: 0.2321518079557874\n",
            "Varianza: 0.17845\n",
            "Varianza está dentro del rango 0.010092053272665207 - 0.2321518079557874\n",
            "Aceptamos que los números tienen una varianza igual a 1/12.\n"
          ]
        }
      ],
      "source": [
        "import numpy as np\n",
        "import scipy.stats\n",
        "import random\n",
        "\n",
        "numeros = []\n",
        "for i in range(0, 5):\n",
        "    n = float(round(random.uniform(0, 1), 4))\n",
        "    numeros.append(n)\n",
        "\n",
        "print(\"Datos:\", numeros)\n",
        "n_total = len(numeros)\n",
        "print(\"Total de datos:\", n_total)\n",
        "\n",
        "from numpy import mean\n",
        "promedio = round(mean(numeros), 5)\n",
        "print(\"Promedio:\", promedio)\n",
        "\n",
        "import statistics\n",
        "varianza = statistics.variance(numeros)\n",
        "print(\"Varianza:\", round(varianza, 5))\n",
        "\n",
        "# Pruebas de hipótesis para verificar la varianza\n",
        "\n",
        "alfa = 0.05  # Nivel de significancia\n",
        "confiabilidad = 1 - alfa / 2  # Nivel de confianza\n",
        "grados_libertad = n_total - 1\n",
        "\n",
        "# Obtener los valores críticos de la distribución chi-cuadrado\n",
        "limite_superior_chi = scipy.stats.chi2.ppf(confiabilidad, grados_libertad)\n",
        "limite_inferior_chi = scipy.stats.chi2.ppf(alfa / 2, grados_libertad)\n",
        "\n",
        "print(\"Nivel de confianza 95%, grados de libertad:\", round(grados_libertad))\n",
        "print(\"Chi-cuadrado (\", confiabilidad, \",\", grados_libertad, \"):\", round(limite_superior_chi, 7))\n",
        "print(\"Chi-cuadrado (\", alfa / 2, \",\", grados_libertad, \"):\", round(limite_inferior_chi, 7))\n",
        "\n",
        "# Calcular los límites inferior y superior para la varianza\n",
        "z = 1.96  # Nivel de confianza del 95%\n",
        "limite_superior = limite_superior_chi / (12 * (n_total - 1))\n",
        "limite_inferior = limite_inferior_chi / (12 * (n_total - 1))\n",
        "print(\"Límite inferior:\", limite_inferior, \"límite superior:\", limite_superior)\n",
        "print(\"Varianza:\", round(varianza, 5))\n",
        "\n",
        "# Comprobar si la varianza está dentro del rango aceptado\n",
        "if limite_inferior <= varianza <= limite_superior:\n",
        "    print(\"Varianza está dentro del rango\", limite_inferior, \"-\", limite_superior)\n",
        "    print(\"Aceptamos que los números tienen una varianza igual a 1/12.\")\n",
        "else:\n",
        "    print(\"Varianza está fuera del rango\", limite_inferior, \"-\", limite_superior)\n",
        "    print(\"No se cumple la hipótesis de varianza igual a 1/12.\")\n"
      ]
    }
  ]
}