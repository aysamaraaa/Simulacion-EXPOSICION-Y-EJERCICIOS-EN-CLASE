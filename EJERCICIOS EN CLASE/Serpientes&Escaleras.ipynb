{
  "nbformat": 4,
  "nbformat_minor": 0,
  "metadata": {
    "colab": {
      "provenance": []
    },
    "kernelspec": {
      "name": "python3",
      "display_name": "Python 3"
    },
    "language_info": {
      "name": "python"
    }
  },
  "cells": [
    {
      "cell_type": "markdown",
      "source": [
        "#Serpientes & Escaleras"
      ],
      "metadata": {
        "id": "Pb-McX2DLPsN"
      }
    },
    {
      "cell_type": "code",
      "execution_count": 1,
      "metadata": {
        "colab": {
          "base_uri": "https://localhost:8080/"
        },
        "id": "H8yA0s5GK9uB",
        "outputId": "f36ed38b-f50b-4a6f-b126-473269bc28c1"
      },
      "outputs": [
        {
          "output_type": "stream",
          "name": "stdout",
          "text": [
            "Promedio de tiradas: 7.334\n",
            "Promedio de la lista: 7.334\n",
            "Varianza: 10.038444\n",
            "Desviación estándar: 3.1683503594141857\n",
            "Intervalo de confianza: (6.4540915876448635, 8.213908412355135)\n"
          ]
        }
      ],
      "source": [
        "import numpy as np\n",
        "import random\n",
        "import matplotlib.pyplot as plt\n",
        "\n",
        "def play_game():\n",
        "    p = 0\n",
        "    moves = 0\n",
        "    while p <= 20:\n",
        "        dado = random.randint(1, 6)\n",
        "        p = p + dado\n",
        "        if p == 3:\n",
        "            p = 11\n",
        "        elif p == 13:\n",
        "            p = 4\n",
        "        elif p == 15:\n",
        "            p = 19\n",
        "        elif p == 17:\n",
        "            p = 10\n",
        "        moves = moves + 1\n",
        "    return moves\n",
        "\n",
        "n = 500\n",
        "tirada_total = 0\n",
        "lista_tiradas = []\n",
        "\n",
        "for i in range(n):\n",
        "    tirada = play_game()\n",
        "    tirada_total += tirada\n",
        "    lista_tiradas.append(tirada)\n",
        "\n",
        "promedio_tiradas = tirada_total / n\n",
        "promedio_lista = np.mean(lista_tiradas)\n",
        "varianza_lista = np.var(lista_tiradas)\n",
        "desviacion_estandar = np.sqrt(varianza_lista)\n",
        "intervalo_confianza = (promedio_lista - 1.96 * (varianza_lista / np.sqrt(n)),\n",
        "                      promedio_lista + 1.96 * (varianza_lista / np.sqrt(n)))\n",
        "\n",
        "print(\"Promedio de tiradas:\", promedio_tiradas)\n",
        "print(\"Promedio de la lista:\", promedio_lista)\n",
        "print(\"Varianza:\", varianza_lista)\n",
        "print(\"Desviación estándar:\", desviacion_estandar)\n",
        "print(\"Intervalo de confianza:\", intervalo_confianza)"
      ]
    }
  ]
}